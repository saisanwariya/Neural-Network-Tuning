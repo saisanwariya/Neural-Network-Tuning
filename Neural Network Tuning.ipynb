{
 "cells": [
  {
   "cell_type": "markdown",
   "id": "43833d4e",
   "metadata": {},
   "source": [
    "<h1 style=\"text-align:center\">Optimized Neural Network Tuning and Visualization for MNIST Digit Recognition: Enhancing Machine Learning Performance through Cluster Computing and Advanced Analysis Techniques</font></h1>  \n",
    "<h2 style=\"text-align:center\">Sai Sanwariya Narayan</h2>  "
   ]
  },
  {
   "cell_type": "code",
   "execution_count": 1,
   "id": "ed3668a4",
   "metadata": {},
   "outputs": [],
   "source": [
    "import pandas as pd\n",
    "from sklearn.datasets import fetch_openml\n",
    "import matplotlib.pyplot as plt\n",
    "import numpy as np"
   ]
  },
  {
   "cell_type": "code",
   "execution_count": 2,
   "id": "a779ce41-34ba-4321-9d0a-80be8ec3b242",
   "metadata": {},
   "outputs": [],
   "source": [
    "# Download the MNIST dataset using scikit-learn - this cell takes time - you don't need to run it everytime\n",
    "mnist = fetch_openml(\"mnist_784\")\n",
    "data, target = mnist.data, mnist.target\n",
    "X = data.values.astype('float32')\n",
    "Y = target.values.to_numpy().astype('int32')\n",
    "data = np.concatenate((X,Y.reshape(-1,1)),axis=-1).astype('int32')\n",
    "# Save the NumPy array to a CSV file\n",
    "np.savetxt('MNIST.csv', data, delimiter=',')"
   ]
  },
  {
   "cell_type": "code",
   "execution_count": 3,
   "id": "33c56d55",
   "metadata": {},
   "outputs": [],
   "source": [
    "# Import necessary PySpark modules\n",
    "from pyspark.sql import SparkSession\n",
    "from pyspark.ml.feature import VectorAssembler, StandardScaler\n",
    "from pyspark.ml.classification import MultilayerPerceptronClassifier\n",
    "from pyspark.ml.evaluation import MulticlassClassificationEvaluator\n",
    "\n",
    "# Create a Spark session\n",
    "spark = SparkSession.builder.appName(\"ClassificationExample\").getOrCreate()\n",
    "\n",
    "# Load your dataset (replace 'your_data.csv' with the actual data file)\n",
    "data = spark.read.csv(\"MNIST.csv\", header=False, inferSchema=True)"
   ]
  },
  {
   "cell_type": "code",
   "execution_count": 4,
   "id": "321a2b83",
   "metadata": {},
   "outputs": [],
   "source": [
    "input_columns = data.columns[:-1]\n",
    "output_columns = data.columns[-1]\n",
    "\n",
    "# Create a feature vector by combining all feature columns into a single 'features' column\n",
    "assembler = VectorAssembler(inputCols=input_columns, outputCol='features')\n",
    "data = assembler.transform(data)"
   ]
  },
  {
   "cell_type": "code",
   "execution_count": 5,
   "id": "3116df09",
   "metadata": {},
   "outputs": [],
   "source": [
    "# Scale the feature vector using StandardScaler\n",
    "scaler = StandardScaler(inputCol=\"features\", outputCol=\"scaled_features\", withStd=True, withMean=True)\n",
    "scaler_model = scaler.fit(data)\n",
    "data = scaler_model.transform(data)"
   ]
  },
  {
   "cell_type": "code",
   "execution_count": 6,
   "id": "074c48df",
   "metadata": {},
   "outputs": [],
   "source": [
    "# Split the data into training and testing sets\n",
    "(training_data, test_data) = data.randomSplit([0.8, 0.2], seed=123)\n",
    "\n",
    "# Define the neural network architecture\n",
    "layers = [len(input_columns), 16, 8, 10]  # Input, hidden, and output layer sizes\n",
    "\n",
    "# create the trainer and set its parameters\n",
    "trainer = MultilayerPerceptronClassifier(maxIter=100, \n",
    "                                         layers=layers, \n",
    "                                         featuresCol='scaled_features',\n",
    "                                         labelCol=output_columns, blockSize=128, seed=1234)"
   ]
  },
  {
   "cell_type": "code",
   "execution_count": 7,
   "id": "e40a1197",
   "metadata": {},
   "outputs": [],
   "source": [
    "# Train the model on the training data\n",
    "model = trainer.fit(training_data)\n",
    "\n",
    "# Make predictions on the test data\n",
    "predictions = model.transform(test_data)"
   ]
  },
  {
   "cell_type": "code",
   "execution_count": 8,
   "id": "758a2bcf",
   "metadata": {},
   "outputs": [
    {
     "data": {
      "text/plain": [
       "0.916986136911825"
      ]
     },
     "execution_count": 8,
     "metadata": {},
     "output_type": "execute_result"
    }
   ],
   "source": [
    "evaluator = MulticlassClassificationEvaluator(labelCol=output_columns,predictionCol='prediction',metricName='f1')\n",
    "ann_f1 = evaluator.evaluate(predictions)\n",
    "ann_f1"
   ]
  },
  {
   "cell_type": "code",
   "execution_count": 9,
   "id": "d34da10f-0ad4-4d42-b9ac-e5702054f049",
   "metadata": {},
   "outputs": [],
   "source": [
    "# save model\n",
    "model.save('/storage/home/Trained_Classifier')"
   ]
  },
  {
   "cell_type": "markdown",
   "id": "8b56c083-4ed7-4bb2-b009-611c337f9c3e",
   "metadata": {},
   "source": [
    "## Implementing hyperparameter runing for the number of neurons in `layers` and the blockSize inside `trainer` below this line. Save the best model to disk with path name `./Best_Classifier`"
   ]
  },
  {
   "cell_type": "code",
   "execution_count": 10,
   "id": "1ce3357a-b6b4-4744-8a02-ced673e25ac6",
   "metadata": {},
   "outputs": [
    {
     "name": "stdout",
     "output_type": "stream",
     "text": [
      "Best Model Saved with neurons: 30 and block size: 64. F1 Score: 0.9416088061725274\n"
     ]
    }
   ],
   "source": [
    "# Define the range of neurons and block sizes\n",
    "neurons_range = [10, 20, 30]\n",
    "block_sizes = [64, 128, 256]\n",
    "\n",
    "best_f1 = 0.0\n",
    "best_model = None\n",
    "best_params = {'neurons': None, 'block_size': None}\n",
    "\n",
    "for neurons in neurons_range:\n",
    "    for block_size in block_sizes:\n",
    "        # Define the new layers with the varying number of neurons\n",
    "        layers = [len(input_columns), neurons, neurons, 10]  # Adjust the hidden layers' neurons\n",
    "\n",
    "        # Create a new trainer with the updated parameters\n",
    "        trainer = MultilayerPerceptronClassifier(maxIter=100, \n",
    "                                                 layers=layers, \n",
    "                                                 featuresCol='scaled_features',\n",
    "                                                 labelCol=output_columns, \n",
    "                                                 blockSize=block_size, \n",
    "                                                 seed=1234)\n",
    "\n",
    "        # Train the model\n",
    "        model = trainer.fit(training_data)\n",
    "\n",
    "        # Evaluate the model\n",
    "        predictions = model.transform(test_data)\n",
    "        f1_score = evaluator.evaluate(predictions)\n",
    "\n",
    "        # Update the best model if the current model is better\n",
    "        if f1_score > best_f1:\n",
    "            best_f1 = f1_score\n",
    "            best_model = model\n",
    "            best_params['neurons'] = neurons\n",
    "            best_params['block_size'] = block_size\n",
    "\n",
    "# Save the best model\n",
    "if best_model:\n",
    "    best_model.save('/storage/home/Best_Classifier')\n",
    "    print(f\"Best Model Saved with neurons: {best_params['neurons']} and block size: {best_params['block_size']}. F1 Score: {best_f1}\")\n",
    "else:\n",
    "    print(\"No model improvement found.\")\n"
   ]
  },
  {
   "cell_type": "markdown",
   "id": "c34a1458-2e73-475f-9e17-f2b92b07509e",
   "metadata": {},
   "source": [
    "## Implement a matplotlib based visualization of classifier predictions and the corresponding images below this line (you do not have to do this for cluster mode)"
   ]
  },
  {
   "cell_type": "code",
   "execution_count": 15,
   "id": "d760b7f0-a67a-4cc6-a82a-32fb08ee51a8",
   "metadata": {},
   "outputs": [],
   "source": [
    "## Load hyperparameter tuned model\n",
    "model.load('./Best_Classifier')\n",
    "# Make predictions on the test data with this better model\n",
    "predictions = model.transform(test_data)"
   ]
  },
  {
   "cell_type": "code",
   "execution_count": 16,
   "id": "c90cb988-c34b-457d-9c7e-50de48346c08",
   "metadata": {},
   "outputs": [],
   "source": [
    "test_data_ip_np = predictions.select(input_columns).toPandas().values\n",
    "test_data_op_np = predictions.select(output_columns).toPandas().values\n",
    "test_data_pred_np = predictions.select('prediction').toPandas().values"
   ]
  },
  {
   "cell_type": "code",
   "execution_count": 17,
   "id": "2c1dd0f1-ff66-41ff-a2d8-078ad46fa0ed",
   "metadata": {},
   "outputs": [
    {
     "name": "stdout",
     "output_type": "stream",
     "text": [
      "(13906, 784)\n",
      "(13906, 1)\n",
      "(13906, 1)\n"
     ]
    }
   ],
   "source": [
    "print(test_data_ip_np.shape)\n",
    "print(test_data_op_np.shape)\n",
    "print(test_data_pred_np.shape)"
   ]
  },
  {
   "cell_type": "code",
   "execution_count": 18,
   "id": "4708e8f8-4cca-4ef9-8d6e-06325bfa28cd",
   "metadata": {},
   "outputs": [
    {
     "data": {
      "image/png": "[encoded data removed]",
      "text/plain": [
       "<Figure size 432x288 with 1 Axes>"
      ]
     },
     "metadata": {
      "needs_background": "light"
     },
     "output_type": "display_data"
    },
    {
     "name": "stdout",
     "output_type": "stream",
     "text": [
      "Predicted label: 8.0\n",
      "True label: 8.0\n"
     ]
    }
   ],
   "source": [
    "idx = 7000 # this can be some integer between 0 and 13905 - feel free to try different things\n",
    "plt.imshow(test_data_ip_np[idx,:].reshape(28,28))\n",
    "plt.show()\n",
    "\n",
    "print('Predicted label:',test_data_pred_np[idx,0])\n",
    "print('True label:',test_data_op_np[idx,0])"
   ]
  }
 ],
 "metadata": {
  "kernelspec": {
   "display_name": "Python\n(ds410_f23)",
   "language": "python",
   "name": "ds410_f23"
  },
  "language_info": {
   "codemirror_mode": {
    "name": "ipython",
    "version": 3
   },
   "file_extension": ".py",
   "mimetype": "text/x-python",
   "name": "python",
   "nbconvert_exporter": "python",
   "pygments_lexer": "ipython3",
   "version": "3.8.8"
  }
 },
 "nbformat": 4,
 "nbformat_minor": 5
}
